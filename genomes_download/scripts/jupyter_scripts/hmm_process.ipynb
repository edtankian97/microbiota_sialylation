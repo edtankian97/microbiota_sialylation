{
 "cells": [
  {
   "cell_type": "code",
   "execution_count": 3,
   "id": "a5e46c1a-60a6-4fae-9f75-d91de874f0f7",
   "metadata": {
    "vscode": {
     "languageId": "r"
    }
   },
   "outputs": [
    {
     "name": "stderr",
     "output_type": "stream",
     "text": [
      "\n",
      "Attaching package: ‘dplyr’\n",
      "\n",
      "\n",
      "The following objects are masked from ‘package:stats’:\n",
      "\n",
      "    filter, lag\n",
      "\n",
      "\n",
      "The following objects are masked from ‘package:base’:\n",
      "\n",
      "    intersect, setdiff, setequal, union\n",
      "\n",
      "\n",
      "\n",
      "Attaching package: ‘data.table’\n",
      "\n",
      "\n",
      "The following objects are masked from ‘package:dplyr’:\n",
      "\n",
      "    between, first, last\n",
      "\n",
      "\n"
     ]
    }
   ],
   "source": [
    "#HMM processing\n",
    "\n",
    "#Library \n",
    "library(dplyr)\n",
    "library(readr)\n",
    "library(tidyr)\n",
    "library(data.table)"
   ]
  },
  {
   "cell_type": "code",
   "execution_count": 1,
   "id": "f1e40bc4-7245-4022-89de-33610f711fa7",
   "metadata": {
    "vscode": {
     "languageId": "r"
    }
   },
   "outputs": [
    {
     "data": {
      "text/html": [
       "<table class=\"dataframe\">\n",
       "<caption>A data.frame: 6 × 2</caption>\n",
       "<thead>\n",
       "\t<tr><th></th><th scope=col>V1</th><th scope=col>V2</th></tr>\n",
       "\t<tr><th></th><th scope=col>&lt;dbl&gt;</th><th scope=col>&lt;chr&gt;</th></tr>\n",
       "</thead>\n",
       "<tbody>\n",
       "\t<tr><th scope=row>1</th><td>49.2908</td><td>all_sialil_old_one_GCF_000006785.2_protein_output.tsv</td></tr>\n",
       "\t<tr><th scope=row>2</th><td>98.7013</td><td>all_sialil_old_one_GCF_000006825.1_protein_output.tsv</td></tr>\n",
       "\t<tr><th scope=row>3</th><td>96.5608</td><td>all_sialil_old_one_GCF_000006845.1_protein_output.tsv</td></tr>\n",
       "\t<tr><th scope=row>4</th><td>26.8551</td><td>all_sialil_old_one_GCF_000006885.1_protein_output.tsv</td></tr>\n",
       "\t<tr><th scope=row>5</th><td>26.8551</td><td>all_sialil_old_one_GCF_000007045.1_protein_output.tsv</td></tr>\n",
       "\t<tr><th scope=row>6</th><td>49.1166</td><td>all_sialil_old_one_GCF_000007265.1_protein_output.tsv</td></tr>\n",
       "</tbody>\n",
       "</table>\n"
      ],
      "text/latex": [
       "A data.frame: 6 × 2\n",
       "\\begin{tabular}{r|ll}\n",
       "  & V1 & V2\\\\\n",
       "  & <dbl> & <chr>\\\\\n",
       "\\hline\n",
       "\t1 & 49.2908 & all\\_sialil\\_old\\_one\\_GCF\\_000006785.2\\_protein\\_output.tsv\\\\\n",
       "\t2 & 98.7013 & all\\_sialil\\_old\\_one\\_GCF\\_000006825.1\\_protein\\_output.tsv\\\\\n",
       "\t3 & 96.5608 & all\\_sialil\\_old\\_one\\_GCF\\_000006845.1\\_protein\\_output.tsv\\\\\n",
       "\t4 & 26.8551 & all\\_sialil\\_old\\_one\\_GCF\\_000006885.1\\_protein\\_output.tsv\\\\\n",
       "\t5 & 26.8551 & all\\_sialil\\_old\\_one\\_GCF\\_000007045.1\\_protein\\_output.tsv\\\\\n",
       "\t6 & 49.1166 & all\\_sialil\\_old\\_one\\_GCF\\_000007265.1\\_protein\\_output.tsv\\\\\n",
       "\\end{tabular}\n"
      ],
      "text/markdown": [
       "\n",
       "A data.frame: 6 × 2\n",
       "\n",
       "| <!--/--> | V1 &lt;dbl&gt; | V2 &lt;chr&gt; |\n",
       "|---|---|---|\n",
       "| 1 | 49.2908 | all_sialil_old_one_GCF_000006785.2_protein_output.tsv |\n",
       "| 2 | 98.7013 | all_sialil_old_one_GCF_000006825.1_protein_output.tsv |\n",
       "| 3 | 96.5608 | all_sialil_old_one_GCF_000006845.1_protein_output.tsv |\n",
       "| 4 | 26.8551 | all_sialil_old_one_GCF_000006885.1_protein_output.tsv |\n",
       "| 5 | 26.8551 | all_sialil_old_one_GCF_000007045.1_protein_output.tsv |\n",
       "| 6 | 49.1166 | all_sialil_old_one_GCF_000007265.1_protein_output.tsv |\n",
       "\n"
      ],
      "text/plain": [
       "  V1      V2                                                   \n",
       "1 49.2908 all_sialil_old_one_GCF_000006785.2_protein_output.tsv\n",
       "2 98.7013 all_sialil_old_one_GCF_000006825.1_protein_output.tsv\n",
       "3 96.5608 all_sialil_old_one_GCF_000006845.1_protein_output.tsv\n",
       "4 26.8551 all_sialil_old_one_GCF_000006885.1_protein_output.tsv\n",
       "5 26.8551 all_sialil_old_one_GCF_000007045.1_protein_output.tsv\n",
       "6 49.1166 all_sialil_old_one_GCF_000007265.1_protein_output.tsv"
      ]
     },
     "metadata": {},
     "output_type": "display_data"
    }
   ],
   "source": [
    "####################################################COMPLETE_GENOMES################################################################################\n",
    "\n",
    "cover_sialil_complete <-read.table(\"microbiota_sialylation/genomes_download/HMMER_analysis/sialiltrans/sialil_coverage.tsv\", \n",
    "                      header = FALSE, col.names = c(\"V1\", \"V2\"))\n",
    "\n",
    "head(cover_sialil_complete)"
   ]
  },
  {
   "cell_type": "code",
   "execution_count": 4,
   "id": "88b5a7a9-f866-4a92-93e4-850758c8f3a6",
   "metadata": {
    "vscode": {
     "languageId": "r"
    }
   },
   "outputs": [
    {
     "data": {
      "text/html": [
       "2008"
      ],
      "text/latex": [
       "2008"
      ],
      "text/markdown": [
       "2008"
      ],
      "text/plain": [
       "[1] 2008"
      ]
     },
     "metadata": {},
     "output_type": "display_data"
    },
    {
     "data": {
      "text/html": [
       "3200"
      ],
      "text/latex": [
       "3200"
      ],
      "text/markdown": [
       "3200"
      ],
      "text/plain": [
       "[1] 3200"
      ]
     },
     "metadata": {},
     "output_type": "display_data"
    }
   ],
   "source": [
    "#Filter by coverage\n",
    "sialil_complete_cover_filter <- cover_sialil_complete %>% filter(cover_sialil_complete$V1 >= 60.00)\n",
    "sialil_complete_cover_filter_2 <- cover_sialil_complete %>% filter(cover_sialil_complete$V1 >= 40.00)\n",
    "nrow(sialil_complete_cover_filter)\n",
    "nrow(sialil_complete_cover_filter_2)"
   ]
  },
  {
   "cell_type": "code",
   "execution_count": null,
   "id": "6e8cc0bd-c77c-4256-9669-0c98858bb8b1",
   "metadata": {
    "vscode": {
     "languageId": "r"
    }
   },
   "outputs": [],
   "source": [
    "# Save result into a file\n",
    "write_tsv(sialil_complete_cover_filter_2, \"microbiota_sialylation/genomes_download/HMMER_analysis/sialiltrans/sialil_complete_cover_filter_40.tsv\")"
   ]
  },
  {
   "cell_type": "code",
   "execution_count": null,
   "id": "6156e1b6-25b5-4617-9a2a-39d3686baec1",
   "metadata": {
    "vscode": {
     "languageId": "r"
    }
   },
   "outputs": [],
   "source": [
    "#for CMP\n",
    "cover_CMP_complete <-read.table(\"microbiota_sialylation/genomes_download/HMMER_analysis/CMP_synthase/CMP_coverage.tsv\", \n",
    "                                   header = FALSE, col.names = c(\"V1\", \"V2\"))\n",
    "\n",
    "head(cover_CMP_complete)"
   ]
  },
  {
   "cell_type": "code",
   "execution_count": null,
   "id": "7ad915ed-32d1-454f-9e40-9bce71ceb067",
   "metadata": {
    "vscode": {
     "languageId": "r"
    }
   },
   "outputs": [],
   "source": [
    "#Coverage filtering\n",
    "CMP_complete_cover_filter <- cover_CMP_complete %>% filter(cover_CMP_complete$V1 >= 60.00)\n",
    "CMP_complete_cover_filter_2 <- cover_CMP_complete %>% filter(cover_CMP_complete$V1 >= 40.00)\n",
    "\n",
    "nrow(cover_CMP_complete)\n",
    "nrow(CMP_complete_cover_filter)\n",
    "nrow(CMP_complete_cover_filter_2)"
   ]
  },
  {
   "cell_type": "code",
   "execution_count": null,
   "id": "4beef936-5e7a-4034-8292-ee9229f1dac3",
   "metadata": {
    "vscode": {
     "languageId": "r"
    }
   },
   "outputs": [],
   "source": [
    "# Save result into a file\n",
    "#write_tsv(CMP_cover_filter, \"CMP_cover_filter.tsv\")\n",
    "write_tsv(CMP_complete_cover_filter_2, \"microbiota_sialylation/genomes_download/HMMER_analysis/CMP_synthase/CMP_complete_cover_filter_40.tsv\")"
   ]
  },
  {
   "cell_type": "code",
   "execution_count": null,
   "id": "3e8cf87d-0480-482f-8b30-aa1ba18f3851",
   "metadata": {
    "vscode": {
     "languageId": "r"
    }
   },
   "outputs": [],
   "source": [
    "#polisialil\n",
    "cover_polisia_complete <-read.table(\"microbiota_sialylation/genomes_download/HMMER_analysis/polisialiltrans/polisialil_coverage.tsv\", \n",
    "                                header = FALSE, col.names = c(\"V1\", \"V2\"))\n",
    "\n",
    "head(cover_polisia_complete)"
   ]
  },
  {
   "cell_type": "code",
   "execution_count": null,
   "id": "4a0434fe-20aa-4089-8736-c7e3161516a9",
   "metadata": {
    "vscode": {
     "languageId": "r"
    }
   },
   "outputs": [],
   "source": [
    "#Coverage filtering\n",
    "polisia_complete_cover_filter <- cover_polisia_complete %>% filter(cover_polisia_complete$V1 >= 60.00)\n",
    "polisia_complete_cover_filter_2 <- cover_polisia_complete %>% filter(cover_polisia_complete$V1 >= 40.00)\n",
    "\n",
    "nrow(cover_polisia_complete)\n",
    "nrow(polisia_complete_cover_filter)\n",
    "nrow(polisia_complete_cover_filter_2)"
   ]
  },
  {
   "cell_type": "code",
   "execution_count": null,
   "id": "087f1bd0-4405-4783-9deb-ddbe3ba5d5be",
   "metadata": {
    "vscode": {
     "languageId": "r"
    }
   },
   "outputs": [],
   "source": [
    "# Save result into a file\n",
    "#write_tsv(CMP_cover_filter, \"CMP_cover_filter.tsv\")\n",
    "write_tsv(polisia_complete_cover_filter_2, \"microbiota_sialylation/genomes_download/HMMER_analysis/polisialiltrans/polisia_complete_cover_filter_40.tsv\")"
   ]
  },
  {
   "cell_type": "code",
   "execution_count": null,
   "id": "8b56f0d3-d16f-4320-9137-3bfa9abde02d",
   "metadata": {
    "vscode": {
     "languageId": "r"
    }
   },
   "outputs": [],
   "source": [
    "#Process output - complete\n",
    "\n",
    "#sialil\n",
    "#Get data from sialil \n",
    "\n",
    "#without a header\n",
    "View_sialil_complete_40 <-fread(\"microbiota_sialylation/genomes_download/HMMER_analysis/sialiltrans/filter_cover_sialil/file_output_sialil.tsv\", fill = 34)\n",
    "\n",
    "View_sialil_complete_40 <- View_sialil_complete_40[,-c(26:34)]\n",
    "\n",
    "column_names <-c(\"target_ID\", \"accession_1\", \"tlen\", \"query_ID\", \"accession_2\", \"qlen\", \"e_value_seq\",\n",
    "                 \"score_seq\", \"bias_seq\", \"#\", \"of\", \"c_value\", \"i_value\", \"score_dom\", \"bias_dom\", \n",
    "                 \"hmm_from\", \"hmm_to\", \"ali_from\", \"ali_to\", \"env_from\", \"env_to\", \"acc\", \"description\",\n",
    "                 \"of_1\", \"target\")\n",
    "\n",
    "setnames(View_sialil_complete_40, column_names)"
   ]
  },
  {
   "cell_type": "code",
   "execution_count": null,
   "id": "dfdf9470-c8cc-488b-ab06-f009c335252f",
   "metadata": {
    "vscode": {
     "languageId": "r"
    }
   },
   "outputs": [],
   "source": [
    "View_sialil_complete_process <- View_sialil_complete_40 %>% distinct(View_sialil_complete_40$target_ID, .keep_all = TRUE)\n",
    "\n",
    "final_sialil_complete_process <-View_sialil_complete_process %>% \n",
    "  filter(View_sialil_complete_process$e_value_seq <= 0.001 & View_sialil_complete_process$score_seq >= 50.0)\n",
    "\n",
    "write_tsv(final_sialil_complete_process, \"microbiota_sialylation/genomes_download/HMMER_analysis/sialiltrans/filter_cover_sialil/sialil_completed_filter.tsv\")"
   ]
  },
  {
   "cell_type": "code",
   "execution_count": null,
   "id": "d310c5b2-4e14-453c-a518-0ed562a84fc7",
   "metadata": {
    "vscode": {
     "languageId": "r"
    }
   },
   "outputs": [],
   "source": [
    "#CMP complete\n",
    "\n",
    "#without a header\n",
    "View_CMP_complete_40 <-fread(\"microbiota_sialylation/genomes_download/HMMER_analysis/CMP_synthase/filter_cover_CMP/file_output_CMP.tsv\", fill = 39)\n",
    "\n",
    "View_CMP_complete_40 <- View_CMP_complete_40[,-c(26:38)]\n",
    "\n",
    "column_names <-c(\"target_ID\", \"accession_1\", \"tlen\", \"query_ID\", \"accession_2\", \"qlen\", \"e_value_seq\",\n",
    "                 \"score_seq\", \"bias_seq\", \"#\", \"of\", \"c_value\", \"i_value\", \"score_dom\", \"bias_dom\", \n",
    "                 \"hmm_from\", \"hmm_to\", \"ali_from\", \"ali_to\", \"env_from\", \"env_to\", \"acc\", \"description\",\n",
    "                 \"of_1\", \"target\")\n",
    "\n",
    "setnames(View_CMP_complete_40, column_names)"
   ]
  },
  {
   "cell_type": "code",
   "execution_count": null,
   "id": "5173fd2f-d366-4d1a-8e26-77a00baba13c",
   "metadata": {
    "vscode": {
     "languageId": "r"
    }
   },
   "outputs": [],
   "source": [
    "View_CMP_complete_process <- View_CMP_complete_40 %>% distinct(View_CMP_complete_40$target_ID, .keep_all = TRUE)\n",
    "\n",
    "final_CMP_complete_process <-View_CMP_complete_process %>% \n",
    "  filter(View_CMP_complete_process$e_value_seq <= 0.001 & View_CMP_complete_process$score_seq >= 50.0)\n",
    "\n",
    "write_tsv(final_CMP_complete_process, \"microbiota_sialylation/genomes_download/HMMER_analysis/CMP_synthase/filter_cover_CMP/CMP_completed_filter.tsv\")"
   ]
  },
  {
   "cell_type": "code",
   "execution_count": null,
   "id": "01e052be-9e98-4155-af68-32e921ea6c2c",
   "metadata": {
    "vscode": {
     "languageId": "r"
    }
   },
   "outputs": [],
   "source": [
    "#polisia complete\n",
    "\n",
    "#without a header\n",
    "View_polisia_complete_40 <-fread(\"microbiota_sialylation/genomes_download/HMMER_analysis/polisialiltrans/filter_cover_polisia/file_output_polisia.tsv\", fill = 34)\n",
    "\n",
    "View_polisia_complete_40 <- View_polisia_complete_40[,-c(26:34)]\n",
    "\n",
    "column_names <-c(\"target_ID\", \"accession_1\", \"tlen\", \"query_ID\", \"accession_2\", \"qlen\", \"e_value_seq\",\n",
    "                 \"score_seq\", \"bias_seq\", \"#\", \"of\", \"c_value\", \"i_value\", \"score_dom\", \"bias_dom\", \n",
    "                 \"hmm_from\", \"hmm_to\", \"ali_from\", \"ali_to\", \"env_from\", \"env_to\", \"acc\", \"description\",\n",
    "                 \"of_1\", \"target\")\n",
    "\n",
    "setnames(View_polisia_complete_40, column_names)"
   ]
  },
  {
   "cell_type": "code",
   "execution_count": null,
   "id": "e6da45e9-a979-4ebc-9129-443020f99acc",
   "metadata": {
    "vscode": {
     "languageId": "r"
    }
   },
   "outputs": [],
   "source": [
    "View_polisia_complete_process <- View_polisia_complete_40 %>% distinct(View_polisia_complete_40$target_ID, .keep_all = TRUE)\n",
    "\n",
    "final_polisia_complete_process <-View_polisia_complete_process %>% \n",
    "  filter(View_polisia_complete_process$e_value_seq <= 0.001 & View_polisia_complete_process$score_seq >= 50.0)\n",
    "\n",
    "write_tsv(final_polisia_complete_process, \"microbiota_sialylation/genomes_download/HMMER_analysis/polisialiltrans/filter_cover_polisia/polisia_completed_filter.tsv\")"
   ]
  },
  {
   "cell_type": "code",
   "execution_count": null,
   "id": "3cf2006d-3c69-443b-89fa-fb34a85ff32b",
   "metadata": {
    "vscode": {
     "languageId": "r"
    }
   },
   "outputs": [],
   "source": [
    "#See uniques in coverage 40 for Polisia, CMP and sia - COMPLETE - COMPLETE ANALYSIS\n",
    "#hmm_final_process - See what is commom between the files\n",
    "#upload the data\n",
    "final_filter_complete_CMP_40 <- fread(\"microbiota_sialylation/genomes_download/HMMER_analysis/CMP_synthase/filter_cover_CMP/CMP_completed_filter.tsv\")\n",
    "final_filter_complete_sia_40 <- fread(\"microbiota_sialylation/genomes_download/HMMER_analysis/sialiltrans/filter_cover_sialil/sialil_completed_filter.tsv\")\n",
    "final_filter_complete_poli_40 <- fread(\"microbiota_sialylation/genomes_download/HMMER_analysis/polisialiltrans/filter_cover_polisia/polisia_completed_filter.tsv\")"
   ]
  },
  {
   "cell_type": "code",
   "execution_count": null,
   "id": "d824a6ff-dd23-46a2-94f1-7458184cb7a8",
   "metadata": {
    "vscode": {
     "languageId": "r"
    }
   },
   "outputs": [],
   "source": [
    "#CMP versus sialil\n",
    "CMP_plus_sia_comm_40_complete  <- intersect(final_filter_complete_CMP_40$target_ID, final_filter_complete_sia_40$target_ID)\n",
    "TRUE_CMP_sia_data_40_complete <- as.data.frame(CMP_plus_sia_comm_40_complete)\n",
    "is.data.frame(TRUE_CMP_sia_data_40_complete)\n",
    "View(TRUE_CMP_sia_data_40_complete)"
   ]
  },
  {
   "cell_type": "code",
   "execution_count": null,
   "id": "e3ece06a-086e-4188-8b26-65532202b276",
   "metadata": {
    "vscode": {
     "languageId": "r"
    }
   },
   "outputs": [],
   "source": [
    "#CMP versus polisia\n",
    "CMP_plus_poli_comm_40_complete <- intersect(final_filter_complete_CMP_40$target_ID, final_filter_complete_poli_40$target_ID)\n",
    "TRUE_CMP_poli_data_40_complete <- as.data.frame(CMP_plus_poli_comm_40_complete)\n",
    "is.data.frame(TRUE_CMP_poli_data_40_complete)\n",
    "View(TRUE_CMP_poli_data_40_complete)"
   ]
  },
  {
   "cell_type": "code",
   "execution_count": null,
   "id": "cf17f1fa-f6a9-4380-a024-364a6982e43c",
   "metadata": {
    "vscode": {
     "languageId": "r"
    }
   },
   "outputs": [],
   "source": [
    "#See what is commom between CMP/sia and CMP/polisia to reduce redundance and anti_join to take also what is not\n",
    "\n",
    "#rename colnames to match exactly\n",
    "colnames(TRUE_CMP_sia_data_40_complete) <- \"X1\"\n",
    "colnames(TRUE_CMP_poli_data_40_complete) <- \"X1\""
   ]
  },
  {
   "cell_type": "code",
   "execution_count": null,
   "id": "b81c8dd5-3f15-4f61-aff6-7836e1bfba36",
   "metadata": {
    "vscode": {
     "languageId": "r"
    }
   },
   "outputs": [],
   "source": [
    "#right test - semi_join to see what is commom and anti_join for what is not\n",
    "comm_CMP_sia_poli <- semi_join(TRUE_CMP_sia_data_40_complete, TRUE_CMP_poli_data_40_complete)\n",
    "not_comm_CMP_sia_poli <- anti_join(TRUE_CMP_sia_data_40_complete, TRUE_CMP_poli_data_40_complete)\n",
    "not_comm_CMP_sia_poli_1 <- anti_join(TRUE_CMP_poli_data_40_complete, TRUE_CMP_sia_data_40_complete)\n",
    "\n",
    "\n",
    "write_tsv(comm_CMP_sia_poli, \"comm_CMP_sia_poli.tsv\")\n",
    "write_tsv(not_comm_CMP_sia_poli, \"not_comm_CMP_sia_poli.tsv\")\n",
    "write_tsv(not_comm_CMP_sia_poli_1, \"not_commm_CMP_sia_poli_1.tsv\")"
   ]
  },
  {
   "cell_type": "code",
   "execution_count": null,
   "id": "97fb5063-982d-4a60-b85e-91344de93ffd",
   "metadata": {
    "vscode": {
     "languageId": "r"
    }
   },
   "outputs": [],
   "source": [
    "#################################  Part 02 ###########################################################################"
   ]
  },
  {
   "cell_type": "code",
   "execution_count": null,
   "id": "89bbf4f7-819d-498a-a8f8-c09b3521a1a5",
   "metadata": {
    "vscode": {
     "languageId": "r"
    }
   },
   "outputs": [],
   "source": [
    "#Preparation of annotation for itol with 999 representative species\n",
    "\n",
    "#kpsM\n",
    "\n",
    "cover_kpsM_representative <-read.table(\"microbiota_sialylation/genomes_download/HMMER_analysis/kpsM/representative_species_kpsM/kpsM_coverage.tsv\", \n",
    "                                   header = FALSE, col.names = c(\"V1\", \"V2\"))\n",
    "\n",
    "head(cover_kpsM_representative)\n",
    "getwd()\n",
    "\n",
    "#Filter by coverage\n",
    "kpsM_representative_cover_filter <- cover_kpsM_representative %>%filter(cover_kpsM_representative$V1 >= 60.00)\n",
    "kpsM_representative_cover_filter_2 <- cover_kpsM_representative %>% filter(cover_kpsM_representative$V1 >= 40.00)\n",
    "nrow(kpsM_representative_cover_filter)\n",
    "nrow(kpsM_representative_cover_filter_2)\n",
    "\n",
    "# Save result into a file\n",
    "\n",
    "write_tsv(kpsM_representative_cover_filter_2, \"microbiota_sialylation/genomes_download/HMMER_analysis/kpsM/representative_species_kpsM/kpsM_representative_cover_filter_40.tsv\")"
   ]
  },
  {
   "cell_type": "code",
   "execution_count": null,
   "id": "38c69c4d-7537-4b9d-8256-6b8bc3f52198",
   "metadata": {
    "vscode": {
     "languageId": "r"
    }
   },
   "outputs": [],
   "source": [
    "#Get data from kpsM representative \n",
    "library(data.table)\n",
    "#without a header\n",
    "View_kpsM_representative_40 <-fread(\"microbiota_sialylation/genomes_download/HMMER_analysis/kpsM/representative_species_kpsM/filtered_KpsM/all_kpsM_representative.tsv\", fill = 33)\n",
    "\n",
    "View_kpsM_representative_40 <- View_kpsM_representative_40[,-c(26:33)]\n",
    "\n",
    "column_names <-c(\"target_ID\", \"accession_1\", \"tlen\", \"query_ID\", \"accession_2\", \"qlen\", \"e_value_seq\",\n",
    "                 \"score_seq\", \"bias_seq\", \"#\", \"of\", \"c_value\", \"i_value\", \"score_dom\", \"bias_dom\", \n",
    "                 \"hmm_from\", \"hmm_to\", \"ali_from\", \"ali_to\", \"env_from\", \"env_to\", \"acc\", \"description\",\n",
    "                 \"of_1\", \"target\")\n",
    "\n",
    "setnames(View_kpsM_representative_40, column_names)"
   ]
  },
  {
   "cell_type": "code",
   "execution_count": null,
   "id": "8892b534-7fca-4801-98b7-961aa70d8928",
   "metadata": {
    "vscode": {
     "languageId": "r"
    }
   },
   "outputs": [],
   "source": [
    "View_kpsM_representative_process <- View_kpsM_representative_40%>% distinct(View_kpsM_representative_40$target_ID, .keep_all = TRUE)\n",
    "\n",
    "final_kpsM_representative_process <-View_kpsM_representative_process %>% \n",
    "  filter(View_kpsM_representative_process$e_value_seq <= 0.001 & View_kpsM_representative_process$score_seq >= 50.0)\n",
    "\n",
    "write_tsv(final_kpsM_representative_process, \"microbiota_sialylation/genomes_download/plots_data/itol/kpsM_represent_filter.tsv\")"
   ]
  },
  {
   "cell_type": "code",
   "execution_count": null,
   "id": "9096c578-fe8f-4ba3-a230-cf293c7d8db3",
   "metadata": {
    "vscode": {
     "languageId": "r"
    }
   },
   "outputs": [],
   "source": [
    "#kpsT\n",
    "\n",
    "cover_kpsT_representative <-read.table(\"microbiota_sialylation/genomes_download/HMMER_analysis/kpsT/representative_species_kpsT/all_kpsT_representative_cover.tsv\", \n",
    "                                       header = FALSE,col.names = c(\"V1\", \"V2\"))\n",
    "\n",
    "View(cover_kpsT_representative)\n",
    "getwd()\n",
    "\n",
    "#Filter by coverage\n",
    "kpsT_representative_cover_filter <- cover_kpsT_representative %>%filter(cover_kpsT_representative$V1 >= 60.00)\n",
    "kpsT_representative_cover_filter_2 <- cover_kpsT_representative %>% filter(cover_kpsT_representative$V1 >= 40.00)\n",
    "nrow(kpsT_representative_cover_filter)\n",
    "nrow(kpsT_representative_cover_filter_2)\n",
    "\n",
    "# Save result into a file\n",
    "\n",
    "write_tsv(kpsT_representative_cover_filter_2, \"microbiota_sialylation/genomes_download/HMMER_analysis/kpsT/representative_species_kpsT/kpsT_representative_cover_filter_40.tsv\")"
   ]
  },
  {
   "cell_type": "code",
   "execution_count": null,
   "id": "e02d94b8-f195-40d5-89e8-e7df35232c9b",
   "metadata": {
    "vscode": {
     "languageId": "r"
    }
   },
   "outputs": [],
   "source": [
    "#Get data from kpsT representative \n",
    "\n",
    "#without a header\n",
    "View_kpsT_representative_40 <-fread(\"microbiota_sialylation/genomes_download/HMMER_analysis/kpsT/representative_species_kpsT/filtered_KpsT/all_kpsT_protein.tsv\", fill = 36)\n",
    "\n",
    "View_kpsT_representative_40 <- View_kpsT_representative_40[,-c(26:36)]\n",
    "\n",
    "column_names <-c(\"target_ID\", \"accession_1\", \"tlen\", \"query_ID\", \"accession_2\", \"qlen\", \"e_value_seq\",\n",
    "                 \"score_seq\", \"bias_seq\", \"#\", \"of\", \"c_value\", \"i_value\", \"score_dom\", \"bias_dom\", \n",
    "                 \"hmm_from\", \"hmm_to\", \"ali_from\", \"ali_to\", \"env_from\", \"env_to\", \"acc\", \"description\",\n",
    "                 \"of_1\", \"target\")\n",
    "\n",
    "setnames(View_kpsT_representative_40, column_names)"
   ]
  },
  {
   "cell_type": "code",
   "execution_count": null,
   "id": "4ace7316-e3ed-478b-a70a-d1213ffdd10b",
   "metadata": {
    "vscode": {
     "languageId": "r"
    }
   },
   "outputs": [],
   "source": [
    "View_kpsT_representative_process <- View_kpsT_representative_40%>% distinct(View_kpsT_representative_40$target_ID, .keep_all = TRUE)\n",
    "\n",
    "final_kpsT_representative_process <-View_kpsT_representative_process %>% \n",
    "  filter(View_kpsT_representative_process$e_value_seq <= 0.001 & View_kpsT_representative_process$score_seq >= 50.0)\n",
    "\n",
    "write_tsv(final_kpsT_representative_process, \"microbiota_sialylation/genomes_download/plots_data/itol/kpsT_represent_filter.tsv\")"
   ]
  },
  {
   "cell_type": "code",
   "execution_count": null,
   "id": "b53d0d08-300a-45ce-bc44-2ae6be7c11f1",
   "metadata": {
    "vscode": {
     "languageId": "r"
    }
   },
   "outputs": [],
   "source": [
    "#Poly(oacetil) representative\n",
    "\n",
    "\n",
    "cover_oacetil_representative <-read.table(\"microbiota_sialylation/genomes_download/HMMER_analysis/o_acetiltrans_plus_poli/representative_oacetil/all_oacetil_cover\", \n",
    "                                       header = FALSE,col.names = c(\"V1\", \"V2\"))\n",
    "\n",
    "View(cover_oacetil_representative)"
   ]
  },
  {
   "cell_type": "code",
   "execution_count": null,
   "id": "29d4dfdd-dbda-49fc-b600-b88d55dfd540",
   "metadata": {
    "vscode": {
     "languageId": "r"
    }
   },
   "outputs": [],
   "source": [
    "#Filter by coverage\n",
    "oacetilpresentative_cover_filter <- cover_oacetil_representative %>%filter(cover_oacetil_representative$V1 >= 60.00)\n",
    "oacetil_representative_cover_filter_2 <- cover_oacetil_representative %>% filter(cover_oacetil_representative$V1 >= 40.00)\n",
    "nrow(oacetil_representative_cover_filter)\n",
    "nrow(oacetil_representative_cover_filter_2)\n",
    "\n",
    "# Save result into a file\n",
    "\n",
    "write_tsv(oacetil_representative_cover_filter_2, \"microbiota_sialylation/genomes_download/HMMER_analysis/o_acetiltrans_plus_poli/representative_oacetil/oacetil_representative_cover_filter_40.tsv\")"
   ]
  },
  {
   "cell_type": "code",
   "execution_count": null,
   "id": "0f948d0e-7d0b-4c14-a166-272d7c7b0585",
   "metadata": {
    "vscode": {
     "languageId": "r"
    }
   },
   "outputs": [],
   "source": [
    "#Get data from poly(oacetil) representative \n",
    "library(data.table)\n",
    "#without a header\n",
    "View_oacetil_representative_40 <-fread(\"microbiota_sialylation/genomes_download/HMMER_analysis/o_acetiltrans_plus_poli/representative_oacetil/filtered_oacetil/all_oacetil_plus_poli.tsv\", fill =33)\n",
    "\n",
    "View_oacetil_representative_40 <- View_oacetil_representative_40[,-c(26:33)]\n",
    "\n",
    "column_names <-c(\"target_ID\", \"accession_1\", \"tlen\", \"query_ID\", \"accession_2\", \"qlen\", \"e_value_seq\",\n",
    "                 \"score_seq\", \"bias_seq\", \"#\", \"of\", \"c_value\", \"i_value\", \"score_dom\", \"bias_dom\", \n",
    "                 \"hmm_from\", \"hmm_to\", \"ali_from\", \"ali_to\", \"env_from\", \"env_to\", \"acc\", \"description\",\n",
    "                 \"of_1\", \"target\")\n",
    "\n",
    "setnames(View_oacetil_representative_40, column_names)"
   ]
  },
  {
   "cell_type": "code",
   "execution_count": null,
   "id": "55efe164-4185-4cb3-863d-c24052c25f7c",
   "metadata": {
    "vscode": {
     "languageId": "r"
    }
   },
   "outputs": [],
   "source": [
    "View_oacetil_representative_process <- View_oacetil_representative_40%>% distinct(View_oacetil_representative_40$target_ID, .keep_all = TRUE)\n",
    "\n",
    "final_oacetil_representative_process <-View_oacetil_representative_process %>% \n",
    "  filter(View_oacetil_representative_process$e_value_seq <= 0.001 & View_oacetil_representative_process$score_seq >= 50.0)\n",
    "\n",
    "write_tsv(final_oacetil_representative_process, \"microbiota_sialylation/genomes_download/plots_data/itol/oacetil_represent_filter.tsv\")"
   ]
  },
  {
   "cell_type": "code",
   "execution_count": null,
   "id": "073944d5-0801-4052-81d7-c3e281e9041c",
   "metadata": {
    "vscode": {
     "languageId": "r"
    }
   },
   "outputs": [],
   "source": [
    "#RfaH for representative\n",
    "\n",
    "cover_rfah_representative <-read.table(\"microbiota_sialylation/genomes_download/HMMER_analysis/RfaH/representative_RfaH/rfah_coverage\", \n",
    "                                          header = FALSE,col.names = c(\"V1\", \"V2\"))\n",
    "\n",
    "head(cover_oacetil_representative)\n",
    "getwd()\n",
    "\n",
    "#Filter by coverage\n",
    "rfah_resentative_cover_filter <- cover_rfah_representative %>%filter(cover_rfah_representative$V1 >= 60.00)\n",
    "rfah_representative_cover_filter_2 <- cover_rfah_representative %>% filter(cover_rfah_representative$V1 >= 40.00)\n",
    "nrow(rfah_resentative_cover_filter)\n",
    "nrow(rfah_representative_cover_filter_2)\n",
    "\n",
    "# Save result into a file\n",
    "\n",
    "write_tsv(rfah_representative_cover_filter_2, \"microbiota_sialylation/genomes_download/HMMER_analysis/RfaH/representative_RfaH/rfah_representative_cover_filter_40.tsv\")"
   ]
  },
  {
   "cell_type": "code",
   "execution_count": null,
   "id": "d7eebc97-399c-43f4-866c-9059847804dc",
   "metadata": {
    "vscode": {
     "languageId": "r"
    }
   },
   "outputs": [],
   "source": [
    "#get tsv file with all results from representative\n",
    "\n",
    "#without a header\n",
    "View_rfah_representative_40 <-fread(\"microbiota_sialylation/genomes_download/HMMER_analysis/RfaH/representative_RfaH/filter_rfaH/all_rfah_tsv_w_o_cruz.tsv\", fill = 33)\n",
    "\n",
    "View_rfah_representative_40 <- View_rfah_representative_40[,-c(26:33)]\n",
    "\n",
    "column_names <-c(\"target_ID\",\"accession_1\",\"tlen\",\"query_ID\",\"accession_2\",\"qlen\",\"e_value_seq\",\n",
    "                 \"score_seq\",\"bias_seq\",\"#\", \"of\", \"c_value\", \"i_value\", \"score_dom\", \"bias_dom\", \n",
    "                 \"hmm_from\", \"hmm_to\", \"ali_from\", \"ali_to\", \"env_from\", \"env_to\", \"acc\", \"description\",\n",
    "                 \"of_1\", \"target\")\n",
    "\n",
    "setnames(View_rfah_representative_40, column_names)"
   ]
  },
  {
   "cell_type": "code",
   "execution_count": null,
   "id": "f72026bd-b7ea-4575-ba60-c15d0a6e9262",
   "metadata": {
    "vscode": {
     "languageId": "r"
    }
   },
   "outputs": [],
   "source": [
    "View_rfah_representative_process <- View_rfah_representative_40%>% distinct(View_rfah_representative_40$target_ID, .keep_all = TRUE)\n",
    "\n",
    "final_rfah_representative_process <-View_rfah_representative_process %>% \n",
    "  filter(View_rfah_representative_process$e_value_seq <= 0.001 & View_rfah_representative_process$score_seq >= 50.0)\n",
    "\n",
    "write_tsv(final_rfah_representative_process, \"microbiota_sialylation/genomes_download/plots_data/itol/rfah_represent_filter.tsv\")"
   ]
  }
 ],
 "metadata": {
  "kernelspec": {
   "display_name": "R",
   "language": "R",
   "name": "ir"
  },
  "language_info": {
   "codemirror_mode": "r",
   "file_extension": ".r",
   "mimetype": "text/x-r-source",
   "name": "R",
   "pygments_lexer": "r",
   "version": "4.4.2"
  }
 },
 "nbformat": 4,
 "nbformat_minor": 5
}
